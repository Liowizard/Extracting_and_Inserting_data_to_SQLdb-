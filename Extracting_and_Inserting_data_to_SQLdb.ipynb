{
 "cells": [
  {
   "cell_type": "markdown",
   "id": "0fc2d882",
   "metadata": {},
   "source": [
    "### Import library "
   ]
  },
  {
   "cell_type": "markdown",
   "id": "63dccc20",
   "metadata": {},
   "source": [
    "### Connecting to SQL"
   ]
  },
  {
   "cell_type": "code",
   "execution_count": 1,
   "id": "542ee32b",
   "metadata": {},
   "outputs": [],
   "source": [
    "import mysql.connector"
   ]
  },
  {
   "cell_type": "code",
   "execution_count": 2,
   "id": "13633cd5",
   "metadata": {},
   "outputs": [],
   "source": [
    "scrap_db=mysql.connector.connect(\n",
    "host=\"localhost\",\n",
    "user=\"Ajesh 1st\",\n",
    "passwd=\"Ajesh1161\",\n",
    "database=\"ajesh 1st\"\n",
    ")"
   ]
  },
  {
   "cell_type": "markdown",
   "id": "03a098f0",
   "metadata": {},
   "source": [
    "### "
   ]
  },
  {
   "cell_type": "markdown",
   "id": "eee37346",
   "metadata": {},
   "source": [
    "### Creating 1st Table "
   ]
  },
  {
   "cell_type": "code",
   "execution_count": 3,
   "id": "4a5f0163",
   "metadata": {},
   "outputs": [],
   "source": [
    " cursor=scrap_db.cursor()\n",
    "\n",
    "cursor.execute(\"DROP TABLE IF EXISTS news \")\n",
    "# Create table as per requirement\n",
    "sql = \"\"\"CREATE TABLE news (\n",
    "newsid int,\n",
    "portalid int,\n",
    "town VARCHAR(20),\n",
    "news  VARCHAR(100),\n",
    "date VARCHAR(15)\n",
    " )\"\"\"\n",
    "cursor.execute(sql)"
   ]
  },
  {
   "cell_type": "markdown",
   "id": "cc9bab83",
   "metadata": {},
   "source": [
    "# "
   ]
  },
  {
   "cell_type": "markdown",
   "id": "d20966ad",
   "metadata": {},
   "source": [
    "### Inserting Data into a Database "
   ]
  },
  {
   "cell_type": "code",
   "execution_count": 4,
   "id": "7b397bd3",
   "metadata": {},
   "outputs": [],
   "source": [
    "xl=[\n",
    "    (1,345,'Chennai',\"A narrow road, land acquisition and diversion of utilities like pipelines and cables before carrying out piling work have been cited by CMRL officials as the reasons for the delay\",'18,1,2023'),\n",
    "    (2,456,'Bangalore','PM Modi to visit Karnataka tomorrow; Tejasvi Surya criticised for opening plane’s ’emergency exit’','18,1,2023'),\n",
    "    (3,764,'Hyderabad',\"Elaborate arrangements were being made for the funeral procession and burial of the titular eighth Nizam\",\"18,1,2023\"),\n",
    "    (4,876,'kochi',\"Min says fee has to be paid to Haritha Karma Sena, receipt mandatory to avail of LSG services\",'18,1,2023'),\n",
    "    (5,564,'Mumbai',\"Real estate agents in Maharashtra will have to undergo mandatory training\",\"18,1,2023\")\n",
    "]"
   ]
  },
  {
   "cell_type": "code",
   "execution_count": 5,
   "id": "660c9848",
   "metadata": {},
   "outputs": [
    {
     "name": "stdout",
     "output_type": "stream",
     "text": [
      "5 Record inserted successfully into Population table\n"
     ]
    }
   ],
   "source": [
    "mySql_insert_query = \"\"\"INSERT INTO news (newsid, portalid, town, news,date) \n",
    "VALUES (%s, %s, %s, %s ,%s) \"\"\"\n",
    "\n",
    "records_to_insert = xl\n",
    "\n",
    "#cursor = scrap_db.cursor()\n",
    "\n",
    "cursor.executemany(mySql_insert_query, records_to_insert)\n",
    "scrap_db.commit()\n",
    "print(cursor.rowcount, \"Record inserted successfully into Population table\")\n",
    "# disconnect from server"
   ]
  },
  {
   "cell_type": "markdown",
   "id": "11b45867",
   "metadata": {},
   "source": [
    "# "
   ]
  },
  {
   "cell_type": "markdown",
   "id": "8629a952",
   "metadata": {},
   "source": [
    "### Extracting Data from SQL db"
   ]
  },
  {
   "cell_type": "code",
   "execution_count": 6,
   "id": "28b6a94f",
   "metadata": {},
   "outputs": [],
   "source": [
    "cursor.execute(\"select * from news\")\n",
    "news=cursor.fetchall()\n",
    "x2=[]\n",
    "for i in news:\n",
    "    x2.append(i)"
   ]
  },
  {
   "cell_type": "markdown",
   "id": "1161f3fa",
   "metadata": {},
   "source": [
    "# "
   ]
  },
  {
   "cell_type": "markdown",
   "id": "df5e8cba",
   "metadata": {},
   "source": [
    "###  Creating 2nd Table "
   ]
  },
  {
   "cell_type": "code",
   "execution_count": 7,
   "id": "c6b46b93",
   "metadata": {},
   "outputs": [],
   "source": [
    "cursor.execute(\"DROP TABLE IF EXISTS kf_docmnt \")\n",
    "# Create table as per requirement\n",
    "sql = \"\"\"CREATE TABLE kf_docmnt (\n",
    "kfid int,\n",
    "portalid int,\n",
    "town VARCHAR(20),\n",
    "news  VARCHAR(100),\n",
    "date VARCHAR(15)\n",
    " )\"\"\"\n",
    "cursor.execute(sql)"
   ]
  },
  {
   "cell_type": "markdown",
   "id": "49bb3792",
   "metadata": {},
   "source": [
    "# "
   ]
  },
  {
   "cell_type": "markdown",
   "id": "1ec3dc5e",
   "metadata": {},
   "source": [
    "### Inserting Data which we extracted from db"
   ]
  },
  {
   "cell_type": "code",
   "execution_count": 8,
   "id": "bb81f675",
   "metadata": {},
   "outputs": [
    {
     "name": "stdout",
     "output_type": "stream",
     "text": [
      "5 Record inserted successfully into Population table\n"
     ]
    }
   ],
   "source": [
    "mySql_insert_query = \"\"\"INSERT INTO kf_docmnt (kfid, portalid, town, news,date) \n",
    "VALUES (%s, %s, %s, %s ,%s) \"\"\"\n",
    "\n",
    "records_to_insert = x2\n",
    "\n",
    "\n",
    "cursor.executemany(mySql_insert_query, records_to_insert)\n",
    "scrap_db.commit()\n",
    "print(cursor.rowcount, \"Record inserted successfully into Population table\")"
   ]
  }
 ],
 "metadata": {
  "kernelspec": {
   "display_name": "Python 3 (ipykernel)",
   "language": "python",
   "name": "python3"
  },
  "language_info": {
   "codemirror_mode": {
    "name": "ipython",
    "version": 3
   },
   "file_extension": ".py",
   "mimetype": "text/x-python",
   "name": "python",
   "nbconvert_exporter": "python",
   "pygments_lexer": "ipython3",
   "version": "3.10.9"
  }
 },
 "nbformat": 4,
 "nbformat_minor": 5
}
